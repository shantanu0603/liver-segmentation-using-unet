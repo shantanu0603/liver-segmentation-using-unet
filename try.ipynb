{
 "cells": [
  {
   "cell_type": "code",
   "execution_count": 1,
   "metadata": {},
   "outputs": [],
   "source": [
    "from keras.models import Model\n",
    "from keras.layers import Input, Conv2D, BatchNormalization, Activation, MaxPooling2D, UpSampling2D, concatenate\n"
   ]
  },
  {
   "cell_type": "code",
   "execution_count": 2,
   "metadata": {},
   "outputs": [],
   "source": [
    "def conv_block(x_in, filters, batch_norm, kernel_size=(3,3)):\n",
    "    x = Conv2D(filters, kernel_size, padding='same')(x_in)\n",
    "    if batch_norm=='TRUE':\n",
    "        x = BatchNormalization()(x)\n",
    "    x = Activation('relu')(x)\n",
    "    x = Conv2D(filters, kernel_size, padding='same')(x)\n",
    "    if batch_norm=='TRUE':\n",
    "        x = BatchNormalization()(x)\n",
    "    x = BatchNormalization()(x)\n",
    "    x = Activation('relu')(x)\n",
    "    return x\n",
    "\n",
    "def conv_2d(x_in, filters, batch_norm, kernel_size=(3,3),acti ='relu'):\n",
    "    x = Conv2D(filters, kernel_size, padding='same')(x_in)\n",
    "    if batch_norm=='TRUE':\n",
    "        x=BatchNormalization()(x)\n",
    "    x= Activation(acti)(x)\n",
    "    return x\n",
    "\n",
    "def pool(x_in, pool_size=(2, 2), type='Max'):\n",
    "    if type=='Max':\n",
    "        p = MaxPooling2D(pool_size)(x_in)\n",
    "    return p\n",
    "\n",
    "def up(x_in, filters, merge, batch_norm, size=(2,2)):\n",
    "    u = UpSampling2D(size)(x_in)\n",
    "    conv = conv_block(u, filters, batch_norm)\n",
    "    merge=concatenate([merge, conv],axis=-1)\n",
    "    return merge\n",
    "\n",
    "def Unet_01(input_layer):\n",
    "    conv1 = conv_block(input_layer, filters=16, batch_norm='TRUE')\n",
    "    pool1 = pool(conv1)\n",
    "\n",
    "    conv2 = conv_block(pool1, filters=32, batch_norm='TRUE')\n",
    "    pool2 = pool(conv2)\n",
    "\n",
    "    conv3 = conv_block(pool2, filters=32, batch_norm='TRUE')\n",
    "    pool3 = pool(conv3)\n",
    "\n",
    "    conv4 = conv_block(pool3, filters=64, batch_norm='TRUE')\n",
    "    pool4 = pool(conv4)\n",
    "\n",
    "    conv5 = conv_2d(pool4, filters=128, batch_norm='TRUE')\n",
    "\n",
    "    up1 = up(conv5,filters=128, merge=conv4, batch_norm='TRUE')\n",
    "    conv6 = conv_2d(up1, filters=128, batch_norm='TRUE')\n",
    "\n",
    "    up2 = up(conv6, filters=128, merge=conv3, batch_norm='TRUE')\n",
    "    conv7 = conv_2d(up2, filters=128, batch_norm='TRUE')\n",
    "\n",
    "    up3 = up(conv7, filters=64, merge=conv2, batch_norm='TRUE')\n",
    "    conv8 = conv_2d(up3, filters=64, batch_norm='TRUE')\n",
    "\n",
    "    up4 = up(conv8, filters=32, merge=conv1, batch_norm='TRUE')\n",
    "    conv9 = conv_2d(up4, filters=32, batch_norm='TRUE')\n",
    "\n",
    "    conv10 = conv_2d(conv9, filters=1, batch_norm='FALSE', acti='sigmoid')\n",
    "\n",
    "    output_layer = conv10\n",
    "    model = Model(input_layer, output_layer)\n",
    "\n",
    "    return model"
   ]
  },
  {
   "cell_type": "code",
   "execution_count": null,
   "metadata": {},
   "outputs": [],
   "source": [
    "model.summary()"
   ]
  },
  {
   "cell_type": "code",
   "execution_count": 22,
   "metadata": {},
   "outputs": [],
   "source": [
    "# Define input layer\n",
    "input_layer = Input(shape=(128,128,1))"
   ]
  },
  {
   "cell_type": "code",
   "execution_count": 23,
   "metadata": {},
   "outputs": [],
   "source": [
    "# Create the model\n",
    "model = Unet_01(input_layer)\n"
   ]
  },
  {
   "cell_type": "code",
   "execution_count": 13,
   "metadata": {},
   "outputs": [],
   "source": [
    "# Load the weights from the .h5 file\n",
    "model.load_weights(r'C:\\Users\\Shantanu\\Desktop\\projects\\seg.weights.h5')"
   ]
  },
  {
   "cell_type": "code",
   "execution_count": 26,
   "metadata": {},
   "outputs": [
    {
     "ename": "ValueError",
     "evalue": "Exception encountered when calling Functional.call().\n\n\u001b[1mInput 0 of layer \"conv2d_26\" is incompatible with the layer: expected axis -1 of input shape to have value 1, but received input with shape (1, 128, 128, 60)\u001b[0m\n\nArguments received by Functional.call():\n  • inputs=tf.Tensor(shape=(1, 128, 128, 60, 1), dtype=float32)\n  • training=False\n  • mask=None",
     "output_type": "error",
     "traceback": [
      "\u001b[1;31m---------------------------------------------------------------------------\u001b[0m",
      "\u001b[1;31mValueError\u001b[0m                                Traceback (most recent call last)",
      "Cell \u001b[1;32mIn[26], line 22\u001b[0m\n\u001b[0;32m     19\u001b[0m     test_img \u001b[38;5;241m=\u001b[39m test_img[:, :, :, :depth, :]\n\u001b[0;32m     21\u001b[0m \u001b[38;5;66;03m# Make predictions using model.predict()\u001b[39;00m\n\u001b[1;32m---> 22\u001b[0m predicted_mask \u001b[38;5;241m=\u001b[39m \u001b[43mmodel\u001b[49m\u001b[38;5;241;43m.\u001b[39;49m\u001b[43mpredict\u001b[49m\u001b[43m(\u001b[49m\u001b[43mtest_img\u001b[49m\u001b[43m)\u001b[49m\n",
      "File \u001b[1;32m~\\AppData\\Local\\Packages\\PythonSoftwareFoundation.Python.3.12_qbz5n2kfra8p0\\LocalCache\\local-packages\\Python312\\site-packages\\keras\\src\\utils\\traceback_utils.py:123\u001b[0m, in \u001b[0;36mfilter_traceback.<locals>.error_handler\u001b[1;34m(*args, **kwargs)\u001b[0m\n\u001b[0;32m    120\u001b[0m     filtered_tb \u001b[38;5;241m=\u001b[39m _process_traceback_frames(e\u001b[38;5;241m.\u001b[39m__traceback__)\n\u001b[0;32m    121\u001b[0m     \u001b[38;5;66;03m# To get the full stack trace, call:\u001b[39;00m\n\u001b[0;32m    122\u001b[0m     \u001b[38;5;66;03m# `keras.config.disable_traceback_filtering()`\u001b[39;00m\n\u001b[1;32m--> 123\u001b[0m     \u001b[38;5;28;01mraise\u001b[39;00m e\u001b[38;5;241m.\u001b[39mwith_traceback(filtered_tb) \u001b[38;5;28;01mfrom\u001b[39;00m \u001b[38;5;28;01mNone\u001b[39;00m\n\u001b[0;32m    124\u001b[0m \u001b[38;5;28;01mfinally\u001b[39;00m:\n\u001b[0;32m    125\u001b[0m     \u001b[38;5;28;01mdel\u001b[39;00m filtered_tb\n",
      "File \u001b[1;32m~\\AppData\\Local\\Packages\\PythonSoftwareFoundation.Python.3.12_qbz5n2kfra8p0\\LocalCache\\local-packages\\Python312\\site-packages\\keras\\src\\layers\\input_spec.py:227\u001b[0m, in \u001b[0;36massert_input_compatibility\u001b[1;34m(input_spec, inputs, layer_name)\u001b[0m\n\u001b[0;32m    222\u001b[0m     \u001b[38;5;28;01mfor\u001b[39;00m axis, value \u001b[38;5;129;01min\u001b[39;00m spec\u001b[38;5;241m.\u001b[39maxes\u001b[38;5;241m.\u001b[39mitems():\n\u001b[0;32m    223\u001b[0m         \u001b[38;5;28;01mif\u001b[39;00m value \u001b[38;5;129;01mis\u001b[39;00m \u001b[38;5;129;01mnot\u001b[39;00m \u001b[38;5;28;01mNone\u001b[39;00m \u001b[38;5;129;01mand\u001b[39;00m shape[axis] \u001b[38;5;129;01mnot\u001b[39;00m \u001b[38;5;129;01min\u001b[39;00m {\n\u001b[0;32m    224\u001b[0m             value,\n\u001b[0;32m    225\u001b[0m             \u001b[38;5;28;01mNone\u001b[39;00m,\n\u001b[0;32m    226\u001b[0m         }:\n\u001b[1;32m--> 227\u001b[0m             \u001b[38;5;28;01mraise\u001b[39;00m \u001b[38;5;167;01mValueError\u001b[39;00m(\n\u001b[0;32m    228\u001b[0m                 \u001b[38;5;124mf\u001b[39m\u001b[38;5;124m'\u001b[39m\u001b[38;5;124mInput \u001b[39m\u001b[38;5;132;01m{\u001b[39;00minput_index\u001b[38;5;132;01m}\u001b[39;00m\u001b[38;5;124m of layer \u001b[39m\u001b[38;5;124m\"\u001b[39m\u001b[38;5;132;01m{\u001b[39;00mlayer_name\u001b[38;5;132;01m}\u001b[39;00m\u001b[38;5;124m\"\u001b[39m\u001b[38;5;124m is \u001b[39m\u001b[38;5;124m'\u001b[39m\n\u001b[0;32m    229\u001b[0m                 \u001b[38;5;124mf\u001b[39m\u001b[38;5;124m\"\u001b[39m\u001b[38;5;124mincompatible with the layer: expected axis \u001b[39m\u001b[38;5;132;01m{\u001b[39;00maxis\u001b[38;5;132;01m}\u001b[39;00m\u001b[38;5;124m \u001b[39m\u001b[38;5;124m\"\u001b[39m\n\u001b[0;32m    230\u001b[0m                 \u001b[38;5;124mf\u001b[39m\u001b[38;5;124m\"\u001b[39m\u001b[38;5;124mof input shape to have value \u001b[39m\u001b[38;5;132;01m{\u001b[39;00mvalue\u001b[38;5;132;01m}\u001b[39;00m\u001b[38;5;124m, \u001b[39m\u001b[38;5;124m\"\u001b[39m\n\u001b[0;32m    231\u001b[0m                 \u001b[38;5;124m\"\u001b[39m\u001b[38;5;124mbut received input with \u001b[39m\u001b[38;5;124m\"\u001b[39m\n\u001b[0;32m    232\u001b[0m                 \u001b[38;5;124mf\u001b[39m\u001b[38;5;124m\"\u001b[39m\u001b[38;5;124mshape \u001b[39m\u001b[38;5;132;01m{\u001b[39;00mshape\u001b[38;5;132;01m}\u001b[39;00m\u001b[38;5;124m\"\u001b[39m\n\u001b[0;32m    233\u001b[0m             )\n\u001b[0;32m    234\u001b[0m \u001b[38;5;66;03m# Check shape.\u001b[39;00m\n\u001b[0;32m    235\u001b[0m \u001b[38;5;28;01mif\u001b[39;00m spec\u001b[38;5;241m.\u001b[39mshape \u001b[38;5;129;01mis\u001b[39;00m \u001b[38;5;129;01mnot\u001b[39;00m \u001b[38;5;28;01mNone\u001b[39;00m:\n",
      "\u001b[1;31mValueError\u001b[0m: Exception encountered when calling Functional.call().\n\n\u001b[1mInput 0 of layer \"conv2d_26\" is incompatible with the layer: expected axis -1 of input shape to have value 1, but received input with shape (1, 128, 128, 60)\u001b[0m\n\nArguments received by Functional.call():\n  • inputs=tf.Tensor(shape=(1, 128, 128, 60, 1), dtype=float32)\n  • training=False\n  • mask=None"
     ]
    }
   ],
   "source": [
    "import numpy as np\n",
    "import nibabel as nib\n",
    "\n",
    "# Load the test image\n",
    "test_img_path = 'tmp_img/test_img/1.nii.gz'\n",
    "test_img = nib.load(test_img_path).get_fdata()\n",
    "\n",
    "# Ensure the test image has the correct shape and type\n",
    "test_img = np.expand_dims(test_img, axis=-1)  # Add channel dimension\n",
    "test_img = np.expand_dims(test_img, axis=0)   # Add batch dimension\n",
    "\n",
    "# Pad or crop along the last dimension to match the desired depth (60)\n",
    "depth = 60\n",
    "current_depth = test_img.shape[-2]\n",
    "if current_depth < depth:\n",
    "    pad_width = ((0, 0), (0, 0), (0, 0), (0, depth - current_depth), (0, 0))\n",
    "    test_img = np.pad(test_img, pad_width, mode='constant', constant_values=0)\n",
    "elif current_depth > depth:\n",
    "    test_img = test_img[:, :, :, :depth, :]\n",
    "\n",
    "# Make predictions using model.predict()\n",
    "predicted_mask = model.predict(test_img)\n"
   ]
  }
 ],
 "metadata": {
  "kernelspec": {
   "display_name": "Python 3",
   "language": "python",
   "name": "python3"
  },
  "language_info": {
   "codemirror_mode": {
    "name": "ipython",
    "version": 3
   },
   "file_extension": ".py",
   "mimetype": "text/x-python",
   "name": "python",
   "nbconvert_exporter": "python",
   "pygments_lexer": "ipython3",
   "version": "3.12.3"
  }
 },
 "nbformat": 4,
 "nbformat_minor": 2
}
